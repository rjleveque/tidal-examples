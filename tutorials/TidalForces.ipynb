{
 "cells": [
  {
   "cell_type": "markdown",
   "metadata": {},
   "source": [
    "# Tidal Forces\n",
    "\n",
    "This notebook illustrates how the tidal force on the earth is calculated, and from this how the steady state displacement of the sea surface would look in the idealized case of a uniform depth ocean on a flat earth with no rotation and with the satellite (moon or sun creating the tide) assumed to be in the equatorial plane.\n",
    "\n",
    "Some of the discussion here is based on the paper by Butikov cited below, or [this one](https://doi.org/10.1119/1.1498858).  See also the nice webpage of Simanek on [Tidal Misconceptions](https://www.lockhaven.edu/~dsimanek/scenario/tides.htm) for further discussion and an extensive list of references."
   ]
  },
  {
   "cell_type": "code",
   "execution_count": null,
   "metadata": {},
   "outputs": [],
   "source": [
    "%pylab inline"
   ]
  },
  {
   "cell_type": "code",
   "execution_count": null,
   "metadata": {},
   "outputs": [],
   "source": [
    "from IPython.display import Image"
   ]
  },
  {
   "cell_type": "markdown",
   "metadata": {},
   "source": [
    "Define some constants used below:"
   ]
  },
  {
   "cell_type": "code",
   "execution_count": null,
   "metadata": {},
   "outputs": [],
   "source": [
    "G = 6.674e-11    # gravitational constant \n",
    "\n",
    "Re = 6371e3      # radius of earth (m)\n",
    "Me = 5.972e24    # mass of earth (kg)\n",
    "\n",
    "Mm = 7.348e22    # mass of moon (kg)\n",
    "Rm = 3.844e8     # distance moon to earth (m)\n",
    "\n",
    "Ms = 1.989e30    # mass of sun (kg)\n",
    "Rs = 149.6e9     # distance sun to earth (m)\n",
    "\n",
    "g = G*Me/Re**2\n",
    "print(\"The earth's gravitational acceleration at the surface of the earth is %.3f m/s^2\" % g)"
   ]
  },
  {
   "cell_type": "markdown",
   "metadata": {},
   "source": [
    "The gravitational acceleration a distant body at distance $R$ with mass $M$ exerts on earth is $GM/R^2$."
   ]
  },
  {
   "cell_type": "code",
   "execution_count": null,
   "metadata": {},
   "outputs": [],
   "source": [
    "print('The gravitational acceleration the moon exerts on earth is %.8f m/s^2' % (G*Mm/Rm**2))\n",
    "print('The gravitational acceleration the sun  exerts on earth is %.8f m/s^2' % (G*Ms/Rs**2))"
   ]
  },
  {
   "cell_type": "markdown",
   "metadata": {},
   "source": [
    "The sun exerts a bigger gravitational force on the earth than the moon, not surprising since the earth rotates about the sun primarily.  But for tides, what is important is not the total acceleration but the difference between the acceleration of the water in the ocean and the acceleration of the earth itself.  The ocean surface closest to the moon is roughly at distance $R = R_m - R_e$, where $R_m$ is the distance from the center of the earth to the moon and $R_e$ is the radius of the earth.  This means that water near this surface is has acceleration roughly $GM_m/(R_m-R_e)^2$, which is great than the acceleration of the earth itself, which (assuming it's roughly non-deformable) is based on the distance $R_m$ from the moon to the center of mass, and is $GM_m/R_m^2$.  The difference is \n",
    "$$\n",
    "\\frac{GM_m}{(R_m-R_e)^2} - \\frac{GM_m}{R_m^2} \\approx \\frac{2GM_m}{R_m^3} R_e.\n",
    "$$\n",
    "since $\\frac{d}{dr}(1/r^2) = -2/r^3$."
   ]
  },
  {
   "cell_type": "markdown",
   "metadata": {},
   "source": [
    "For the moon, this net acceleration has magnitude (in $m/s^2$):"
   ]
  },
  {
   "cell_type": "code",
   "execution_count": null,
   "metadata": {},
   "outputs": [],
   "source": [
    "2*G*Mm*Re / Rm**3"
   ]
  },
  {
   "cell_type": "markdown",
   "metadata": {},
   "source": [
    "For the sun, it is a similar expression but with $M_s$ and $R_s$ in place of $M_m$ and $R_m$:"
   ]
  },
  {
   "cell_type": "code",
   "execution_count": null,
   "metadata": {},
   "outputs": [],
   "source": [
    "2*G*Ms*Re / Rs**3"
   ]
  },
  {
   "cell_type": "markdown",
   "metadata": {},
   "source": [
    "This tidal accelertion due to the sun is only about half as large as that of the moon, and indeed the solar tides are about half as large as lunar tides on earth."
   ]
  },
  {
   "cell_type": "markdown",
   "metadata": {},
   "source": [
    "## Horizontal and vertical acceleration\n",
    "\n",
    "To properly compute the tidal acceleration anywhere on the surface of the earth we must also take into account the component of the force exerted by the moon that lies in the direction toward the center of the earth.  This is very small since it depends on the angle between the vector from the moon to the center of earth and that from the moon to the point on the surface, and this angle is $\\sin^{-1}(R_e/R_m) \\approx R_e/R_m$.  But this is the same magnitude as the factor $2R_e/R_m$ that arises in approximating the difference between the forces on the two sides of the earth above. On the sides aligned with the moon these add up to $3R_e/R_m$, while in the orthogonal direction they partially cancel, but still leave an acceleration proportional to $-R_e/R_m$.\n",
    "\n",
    "The figure below from the [Wikipedia page on tidal force](https://en.wikipedia.org/wiki/Tidal_force) shows the direction and relative magnitudes of these tidal forces (after subtracting out the force exerted by the satellite, e.g. the moon, on the center of the earth).\n",
    "\n",
    "This figure shows a cut through the equator, looking down on the earth (North Pole in the center) with the satellite (e.g., the moon or sun) in the equatorial plane."
   ]
  },
  {
   "cell_type": "code",
   "execution_count": null,
   "metadata": {},
   "outputs": [],
   "source": [
    "Image('Field_tidal.png', width=400)"
   ]
  },
  {
   "cell_type": "markdown",
   "metadata": {},
   "source": [
    "The resulting forces on the fluid water layer leads to bulges of water both on the side of the earth facing the moon and on the far side, with dips in the water surface in the orthogonal directions.  This is the basic reason that many places on earth experience two high tides and two low tides each day (semi-diurnal) as the earth rotates once per day.\n",
    "\n",
    "The maximum magnitude of the outward forces (\"up\" when standing on earth) shown in the figure along the line toward the satellite is 3 times larger than the maximum \"downward\" forces in the orthogonal directions. "
   ]
  },
  {
   "cell_type": "markdown",
   "metadata": {},
   "source": [
    "As noted in [this paper](http://butikov.faculty.ifmo.ru/OceanicTidesCTE.pdf):\n",
    "\n",
    "    E.I. Butikov, \"Oceanic Tides: A physical explanation and modeling\", Computer Tools in Education, 2017 \n",
    "    \n",
    "if we add in constant downward force everywhere with magnitude equal to the mean of these, then the remaining tidal force has exactly the same magnitude everywhere on earth and only its direction varies.   The uniform downward force added has no tidal effect since it's equivalent to uniformly increasing the gravitational constant $g$ everywhere, which does not induce horizontal displacement of the ocean.\n",
    "\n",
    "Once we do this, we find (see Butikov for the full derivation), that at a point at longitude $\\lambda$ on the earth (assuming the moon is in the equatorial plane, at $\\lambda=0$,  that the horizontal and vertical tidal accelerations (relative to the earth's surface) can be taken to be\n",
    "\n",
    "$$\n",
    "A_h(\\lambda) = -\\epsilon \\sin(2\\lambda), \\qquad\n",
    "A_v(\\lambda) =  \\epsilon \\cos(2\\lambda),\n",
    "$$\n",
    "\n",
    "where $\\epsilon = \\frac 3 2 GM_mR_e/R_m^3$.  This form is equation (7) in the paper of Butikov.\n",
    "\n",
    "The vertical acceleration $A_v$ modifies the gravitatational constant $g \\approx 9.8$ to $\\tilde g(\\lambda) = g + A_v(\\lambda)$.\n",
    "\n",
    "Note that:"
   ]
  },
  {
   "cell_type": "code",
   "execution_count": null,
   "metadata": {},
   "outputs": [],
   "source": [
    "epsilon = 1.5*G*Mm*Re / Rm**3\n",
    "print('Maximum perturbation of g = %.2f is epsilon = %.3e m/s^2' % (g, epsilon))"
   ]
  },
  {
   "cell_type": "markdown",
   "metadata": {},
   "source": [
    "This is a very small perturbation of $g$ and the variation of $\\tilde g$ with longitude actually plays a very small role in the formation of the tidal bulges.\n",
    "\n",
    "Instead it is the horizontal component of force that is much more important.  Even though its maximum magnitude is the same, the horizontal force is nonzero everywhere between the equator and pole (a distance of roughly $10^7$ meters) and so it \n",
    "is accelerating a huge stretch of water in the horizontal direction (the direction in which it can flow), resulting in an ${\\cal O}(1)$ size bulge.  "
   ]
  },
  {
   "cell_type": "markdown",
   "metadata": {},
   "source": [
    "## Steady state deformation of the ocean\n",
    "\n",
    "The size and shape of the equilibrium bulge is determined by the fact that the horiztonal acceleration is balanced by the restoring force of earth's gravity working on the displaced water surface.  The Butikov paper above gives one way to work this out, here we use a different approach.\n",
    "\n",
    "The shape can be determined as a simple steady-state case of the one-dimensional shallow water equations, which generally take the following form when $x$ is distance (measured in meters) along a 1D channel and $A(x)$ is a specified horizontal acceleration:\n",
    "\n",
    "$$\n",
    "\\begin{split}\n",
    "h_t + (hu)_x &=0,\\\\\n",
    "(hu)_t + \\left(hu^2 + \\frac 1 2 g h^2\\right)_x&= A(x)h(x)\n",
    "\\end{split}\n",
    "$$\n",
    "\n",
    "The steady state has $u\\equiv 0$ and no variation in time, so the first equation vanishes and the momentum equation becomes:\n",
    "\n",
    "$$ \n",
    "\\left(\\frac 1 2 g h(x)^2\\right)_x = A(x)h(x).\n",
    "$$\n",
    "\n",
    "or\n",
    "\n",
    "$$\n",
    "gh(x)_x = A(x).\n",
    "$$\n",
    "\n",
    "If we can integrate the acceleration in $x$, then it is easy to calculate the steady state surface level $h(x)$ that exactly balances this.\n",
    "\n",
    "In our case, we have a formula for the horizontal acceleration $A(\\lambda)$ in terms of longitude, and we want to deduce $h(\\lambda)$.  We can't simply replace $x$ by $\\lambda$ in the steady state equation, however, since the acceleration is given in $m/s^2$ and $h(\\lambda)$ is in meters, not degrees. Thus we need to convert the $x$ derivative to a $\\lambda$ derivative by multiplying by $d\\lambda/dx$, giving\n",
    "\n",
    "\\begin{equation}\n",
    "\\left(\\frac 1 2 g h(\\lambda)^2\\right)_\\lambda = A(\\lambda)\\frac{dx}{d\\lambda} h(\\lambda).\n",
    "\\label{1dss}\n",
    "\\end{equation}\n",
    "\n",
    "(We should also replace $g$ by $\\tilde g(\\lambda)$ but that makes negligible difference in the solution.)\n",
    "\n",
    "$dx/d\\lambda$ is simply the number of meters per degree in radians, which on the surface of the earth is $dx/d\\lambda = R_e$, the radius of the earth. "
   ]
  },
  {
   "cell_type": "markdown",
   "metadata": {},
   "source": [
    "Using this together with $A_h(\\lambda) = -\\epsilon \\sin(2\\lambda)$ from above for the horizontal acceleration, and using $g$ rather than $\\tilde g(\\lambda)$, equation (\\ref{1dss}) becomes:\n",
    "\n",
    "$$\n",
    "g h(\\lambda)_\\lambda = -\\epsilon R_e \\sin(2\\lambda) .\n",
    "$$\n",
    "\n",
    "Integrating gives:\n",
    "\n",
    "$$\n",
    "h(\\lambda) = h_0 + \\frac{\\epsilon R_e}{2g} \\cos(2\\lambda).\n",
    "$$\n",
    "\n",
    "The difference between the maximum and minimum displacement is $\\epsilon R_e / g$:"
   ]
  },
  {
   "cell_type": "code",
   "execution_count": null,
   "metadata": {},
   "outputs": [],
   "source": [
    "print('The amplitude of tidal displacement of the ocean surface is %.3f meters' % (epsilon*Re/g))"
   ]
  },
  {
   "cell_type": "markdown",
   "metadata": {},
   "source": [
    "Let's plot this surface displacement:"
   ]
  },
  {
   "cell_type": "code",
   "execution_count": null,
   "metadata": {},
   "outputs": [],
   "source": [
    "lam = linspace(-pi,pi,501)\n",
    "h = epsilon*Re/(2*g) * cos(2*lam)\n",
    "\n",
    "figure(figsize=(12,5))\n",
    "plot(lam*180/pi, h, 'b')\n",
    "xlim(-180,180)\n",
    "xlabel('longitude (degrees)')\n",
    "ylabel('surface displacement (meters)')\n",
    "ticklabel_format(useOffset=False)\n",
    "grid(True)\n",
    "title('Tidal displacement of the sea surface');"
   ]
  },
  {
   "cell_type": "markdown",
   "metadata": {},
   "source": [
    "We can plot this on the circular equatorial cross section of the earth.  In order to see the water at all, or its tidal variation, we must greatly amplify both the depth of the ocean and the magnitude of the tidal bulges relative to that depth.  "
   ]
  },
  {
   "cell_type": "code",
   "execution_count": null,
   "metadata": {},
   "outputs": [],
   "source": [
    "r1 = lambda lam: ones(lam.shape)\n",
    "r2 = lambda lam: 1.1*r1(lam) + 0.2*epsilon*Re/(2*g) * cos(2*lam)\n",
    "\n",
    "x1 = r1(lam)*cos(lam)\n",
    "y1 = r1(lam)*sin(lam)\n",
    "x2 = r2(lam)*cos(lam)\n",
    "y2 = r2(lam)*sin(lam)\n",
    "\n",
    "figure(figsize=(13,8))\n",
    "fill(x2,y2,color=[.5,.5,1])\n",
    "fill(x1,y1,color=[.7,1,.7])\n",
    "plot(x1,y1,'g')\n",
    "plot(x2,y2,'b')\n",
    "\n",
    "arrow(1.3,0,0.3,0,width=0.01)\n",
    "text(1.7,-0.01,'moon', fontsize=15)\n",
    "\n",
    "axis('equal')\n",
    "axis('off')\n",
    "title('\\nOcean depth with tidal bulges (both greatly amplified)', fontsize=15);"
   ]
  },
  {
   "cell_type": "code",
   "execution_count": null,
   "metadata": {},
   "outputs": [],
   "source": []
  }
 ],
 "metadata": {
  "kernelspec": {
   "display_name": "Python 3",
   "language": "python",
   "name": "python3"
  },
  "language_info": {
   "codemirror_mode": {
    "name": "ipython",
    "version": 3
   },
   "file_extension": ".py",
   "mimetype": "text/x-python",
   "name": "python",
   "nbconvert_exporter": "python",
   "pygments_lexer": "ipython3",
   "version": "3.6.10"
  }
 },
 "nbformat": 4,
 "nbformat_minor": 4
}
