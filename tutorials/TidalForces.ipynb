{
 "cells": [
  {
   "cell_type": "markdown",
   "metadata": {},
   "source": [
    "# Tidal Forces\n",
    "\n",
    "This notebook illustrates how the tidal force on the earth is calculated, and from this how the steady state displacement of the sea surface would look in the idealized case of a uniform depth ocean on a flat earth with no rotation and with the satellite (moon or sun creating the tide) assumed to be in the equatorial plane.\n",
    "\n",
    "Some of the discussion here is based on the papers by Butikov in the references at the bottom of this page.  See also the nice webpage of Simanek on [Tidal Misconceptions](https://www.lockhaven.edu/~dsimanek/scenario/tides.htm) for further discussion and an extensive list of references."
   ]
  },
  {
   "cell_type": "code",
   "execution_count": null,
   "metadata": {},
   "outputs": [],
   "source": [
    "%matplotlib inline"
   ]
  },
  {
   "cell_type": "code",
   "execution_count": null,
   "metadata": {},
   "outputs": [],
   "source": [
    "from pylab import *\n",
    "import force_plots"
   ]
  },
  {
   "cell_type": "markdown",
   "metadata": {},
   "source": [
    "Some of the Python code used in this notebook is hidden in the module [force_plots.py](force_plots.py) to keep the notebook less cluttered.  Take a look at that file if you want to see how things are computed."
   ]
  },
  {
   "cell_type": "markdown",
   "metadata": {},
   "source": [
    "## The tidal bulge\n",
    "\n",
    "In this notebook we explain why the tidal forces due to the moon create two bulges in the ocean surface (above the average sea level), both on the side of the earth facing the moon and on the back side.  In the orthogonal directions, the water surface is below the average sea level (the total mass of water doesn't change).  Here is the picture we will explain:"
   ]
  },
  {
   "cell_type": "code",
   "execution_count": null,
   "metadata": {},
   "outputs": [],
   "source": [
    "force_plots.plot_tidal_bulges()"
   ]
  },
  {
   "cell_type": "markdown",
   "metadata": {},
   "source": [
    "This figure shows a cut through the equator, looking down on the earth (North Pole in the center) with the other body (the moon or sun) assumed to be in the equatorial plane. Later we will consider the effect caused by the fact that it generally is not."
   ]
  },
  {
   "cell_type": "markdown",
   "metadata": {},
   "source": [
    "We consider only a single body, e.g. the moon.  We will see that the sun alone would give a similar (though smaller) bulge.  In the notebook [SpringNeapTides.ipynb](SpringNeapTides.ipynb) we consider what happens when both the sun and the moon are included (and the two sets of humps may either add together or partially cancel out, depending on their relative orientation)."
   ]
  },
  {
   "cell_type": "markdown",
   "metadata": {},
   "source": [
    "First we define several constants to be used below:"
   ]
  },
  {
   "cell_type": "code",
   "execution_count": null,
   "metadata": {},
   "outputs": [],
   "source": [
    "G = 6.674e-11    # gravitational constant \n",
    "\n",
    "Re = 6371e3      # radius of earth (m)\n",
    "Me = 5.972e24    # mass of earth (kg)\n",
    "\n",
    "Mm = 7.348e22    # mass of moon (kg)\n",
    "Rm = 3.844e8     # distance moon to earth (m)\n",
    "\n",
    "Ms = 1.989e30    # mass of sun (kg)\n",
    "Rs = 149.6e9     # distance sun to earth (m)\n",
    "\n",
    "g = G*Me/Re**2\n",
    "print(\"The earth's gravitational acceleration at the surface of the earth is %.3f m/s^2\" % g)"
   ]
  },
  {
   "cell_type": "markdown",
   "metadata": {},
   "source": [
    "The gravitational acceleration a distant body at distance $R$ with mass $M$ exerts on earth is $GM/R^2$."
   ]
  },
  {
   "cell_type": "code",
   "execution_count": null,
   "metadata": {},
   "outputs": [],
   "source": [
    "print('The gravitational acceleration the moon exerts on earth is %.8f m/s^2' % (G*Mm/Rm**2))\n",
    "print('The gravitational acceleration the sun  exerts on earth is %.8f m/s^2' % (G*Ms/Rs**2))"
   ]
  },
  {
   "cell_type": "markdown",
   "metadata": {},
   "source": [
    "The sun exerts a bigger gravitational force on the earth than the moon, not surprising since the earth rotates about the sun primarily.  But for tides, what is important is not the total acceleration but the difference between the acceleration of the water in the ocean and the acceleration of the earth itself.  The ocean surface closest to the moon is roughly at distance $R = R_m - R_e$, where $R_m$ is the distance from the center of the earth to the moon and $R_e$ is the radius of the earth.  This means that water near this surface is has acceleration roughly $GM_m/(R_m-R_e)^2$, which is great than the acceleration of the earth itself, which (assuming it's roughly non-deformable) is based on the distance $R_m$ from the moon to the center of mass, and is $GM_m/R_m^2$.  The difference is \n",
    "$$\n",
    "\\frac{GM_m}{(R_m-R_e)^2} - \\frac{GM_m}{R_m^2} \\approx \\frac{2GM_m}{R_m^3} R_e.\n",
    "$$\n",
    "since $\\frac{d}{dr}(1/r^2) = -2/r^3$."
   ]
  },
  {
   "cell_type": "markdown",
   "metadata": {},
   "source": [
    "For the moon, this net acceleration has magnitude (in $m/s^2$):"
   ]
  },
  {
   "cell_type": "code",
   "execution_count": null,
   "metadata": {},
   "outputs": [],
   "source": [
    "2*G*Mm*Re / Rm**3"
   ]
  },
  {
   "cell_type": "markdown",
   "metadata": {},
   "source": [
    "For the sun, it is a similar expression but with $M_s$ and $R_s$ in place of $M_m$ and $R_m$:"
   ]
  },
  {
   "cell_type": "code",
   "execution_count": null,
   "metadata": {},
   "outputs": [],
   "source": [
    "2*G*Ms*Re / Rs**3"
   ]
  },
  {
   "cell_type": "markdown",
   "metadata": {},
   "source": [
    "This tidal accelertion due to the sun is only about half as large as that of the moon, and indeed the solar tides are about half as large as lunar tides on earth."
   ]
  },
  {
   "cell_type": "markdown",
   "metadata": {},
   "source": [
    "## Horizontal and vertical acceleration\n",
    "\n",
    "To properly compute the tidal acceleration anywhere on the surface of the earth we must also take into account the component of the force exerted by the moon that lies in the direction toward the center of the earth.  This is very small since it depends on the angle between the vector from the moon to the center of earth and that from the moon to the point on the surface, and this angle is $\\sin^{-1}(R_e/R_m) \\approx R_e/R_m$.  But this is the same magnitude as the factor $2R_e/R_m$ that arises in approximating the difference between the forces on the two sides of the earth above. \n",
    "\n",
    "If we view the equatorial plane of the earth, with longitude $\\theta = 0$ directed towards the moon ($-180 \\leq \\theta \\leq 180$), then the horizontal and vertical tidal accelerations (relative to the earth's surface) have the following form (after linearizing and ignoring higher order terms, and subtracting out the acceleration of the earth itself):\n",
    "\n",
    "$$\n",
    "A_h(\\theta) = -\\epsilon \\sin(2\\theta), \\qquad\n",
    "A_v(\\theta) =  \\epsilon [\\cos(2\\theta) + 1/3],\n",
    "$$\n",
    "\n",
    "where $\\epsilon = \\frac 3 2 GM_mR_e/R_m^3$. See e.g. Butikov (2017) for a derivation.\n",
    "\n",
    "Note that the vertical force has maximum value $+\\frac 4 3 \\epsilon$ at $\\theta = 0$ and $180$, and minimum value $-\\frac 2 3 \\epsilon$ at $\\theta  = \\pm 90$.  It is also important to note that at intermediate longitudes the force is not directly up or down and there is a horizontal force component on the surface of the earth.  It is this force that is primarily responsible for the resulting humps, as discussed further below.\n",
    "\n",
    "The figure below, similar to one on the [Wikipedia page on tidal force](https://en.wikipedia.org/wiki/Tidal_force), shows the direction and relative magnitudes of these tidal forces (after subtracting out the force exerted by the satellite, e.g. the moon, on the center of the earth).\n",
    "\n"
   ]
  },
  {
   "cell_type": "code",
   "execution_count": null,
   "metadata": {},
   "outputs": [],
   "source": [
    "force_plots.plot_tidal_forces()"
   ]
  },
  {
   "cell_type": "markdown",
   "metadata": {},
   "source": [
    "The resulting forces on the fluid water layer leads to bulges of water both on the side of the earth facing the moon and on the far side, with dips in the water surface in the orthogonal directions.  This is the basic reason that many places on earth experience two high tides and two low tides each day (semi-diurnal) as the earth rotates once per day."
   ]
  },
  {
   "cell_type": "markdown",
   "metadata": {},
   "source": [
    "Note that we can add a uniform downward force (analogous to increasing $g$ slightly) everywhere on earth without having any tidal effect, since this does not induce any horizontal displacement of the ocean.  Hence we can shift the vertical acceleration given above by $-\\frac 1 3 \\epsilon$, without affecting the net tidal effect.  This results in the simplified expressions\n",
    "\n",
    "$$\n",
    "A_h(\\theta) = -\\epsilon \\sin(2\\theta), \\qquad\n",
    "A_v(\\theta) =  \\epsilon \\cos(2\\theta),\n",
    "$$\n",
    "\n",
    "where $\\epsilon = \\frac 3 2 GM_mR_e/R_m^3$.  This form is equation (7) in the paper in Butikov (2017).  In this form the tidal acceleration has the same magnitude $\\epsilon$ everywhere on earth, it is only the direction that varies. In the equatorial plane we now have this figure:"
   ]
  },
  {
   "cell_type": "code",
   "execution_count": null,
   "metadata": {},
   "outputs": [],
   "source": [
    "force_plots.plot_tidal_forces(gshift=True)"
   ]
  },
  {
   "cell_type": "markdown",
   "metadata": {},
   "source": [
    "The vertical acceleration $A_v$ modifies the gravitatational constant $g \\approx 9.8$ to $\\tilde g(\\lambda) = g + A_v(\\lambda)$, with amplitude $\\epsilon$ given by:"
   ]
  },
  {
   "cell_type": "code",
   "execution_count": null,
   "metadata": {},
   "outputs": [],
   "source": [
    "epsilon = 1.5*G*Mm*Re / Rm**3\n",
    "print('Maximum perturbation of g = %.2f is epsilon = %.3e m/s^2' % (g, epsilon))"
   ]
  },
  {
   "cell_type": "markdown",
   "metadata": {},
   "source": [
    "This is a very small perturbation of $g$ and the variation of $\\tilde g$ with longitude actually plays a very small role in the formation of the tidal bulges.\n",
    "\n",
    "Instead it is the horizontal component of force that is much more important.  Even though its maximum magnitude is the same, the horizontal force is nonzero everywhere between $\\theta = 0$ and $90$ (a distance of roughly $10^7$ meters) and so it is accelerating a huge stretch of water in the horizontal direction (the direction in which it can flow), resulting in an ${\\cal O}(1)$ size bulge.  "
   ]
  },
  {
   "cell_type": "markdown",
   "metadata": {},
   "source": [
    "## Steady state deformation of the ocean\n",
    "\n",
    "The size and shape of the equilibrium bulge is determined by the fact that the horiztonal acceleration is balanced by the restoring force of earth's gravity working on the displaced water surface.  Butikov (2017) gives one way to work this out, here we use a different approach.\n",
    "\n",
    "The shape can be determined as a simple steady-state case of the one-dimensional shallow water equations, which generally take the following form when $x$ is distance (measured in meters) along a 1D channel and $A(x)$ is a specified horizontal acceleration:\n",
    "\n",
    "$$\n",
    "\\begin{split}\n",
    "h_t + (hu)_x &=0,\\\\\n",
    "(hu)_t + \\left(hu^2 + \\frac 1 2 g h^2\\right)_x&= A(x)h(x)\n",
    "\\end{split}\n",
    "$$\n",
    "\n",
    "The steady state has $u\\equiv 0$ and no variation in time, so the first equation vanishes and the momentum equation becomes:\n",
    "\n",
    "$$ \n",
    "\\left(\\frac 1 2 g h(x)^2\\right)_x = A(x)h(x).\n",
    "$$\n",
    "\n",
    "or\n",
    "\n",
    "$$\n",
    "gh(x)_x = A(x).\n",
    "$$\n",
    "\n",
    "If we can integrate the acceleration in $x$, then it is easy to calculate the steady state surface level $h(x)$ that exactly balances this.\n",
    "\n",
    "In our case, we have a formula for the horizontal acceleration $A(\\theta)$ in terms of longitude, and we want to deduce $h(\\theta)$.  We can't simply replace $x$ by $\\theta$ in the steady state equation, however, since the acceleration is given in $m/s^2$ and $h(\\theta)$ is in meters, not degrees. Thus we need to convert the $x$ derivative to a $\\theta$ derivative by multiplying by $d\\theta/dx$, giving\n",
    "\n",
    "\\begin{equation}\n",
    "\\left(\\frac 1 2 g h(\\theta)^2\\right)_\\theta = A(\\theta)\\frac{dx}{d\\theta} h(\\theta).\n",
    "\\label{1dss}\n",
    "\\end{equation}\n",
    "\n",
    "(We should also replace $g$ by $\\tilde g(\\theta)$ but that makes negligible difference in the solution.)\n",
    "\n",
    "$dx/d\\theta$ is simply the number of meters per degree in radians, which on the surface of the earth is $dx/d\\theta = R_e$, the radius of the earth. "
   ]
  },
  {
   "cell_type": "markdown",
   "metadata": {},
   "source": [
    "Using this together with $A_h(\\theta) = -\\epsilon \\sin(2\\theta)$ from above for the horizontal acceleration, and using $g$ rather than $\\tilde g(\\theta)$, equation (\\ref{1dss}) becomes:\n",
    "\n",
    "$$\n",
    "g h(\\theta)_\\theta = -\\epsilon R_e \\sin(2\\theta) .\n",
    "$$\n",
    "\n",
    "Integrating gives:\n",
    "\n",
    "$$\n",
    "h(\\theta) = h_0 + \\frac{\\epsilon R_e}{2g} \\cos(2\\theta).\n",
    "$$\n",
    "\n",
    "The maximum sea surface displacement is $\\epsilon R_e / 2g$:"
   ]
  },
  {
   "cell_type": "code",
   "execution_count": null,
   "metadata": {},
   "outputs": [],
   "source": [
    "print('The maximum tidal displacement of the ocean surface due to the moon is %.3f meters' % (0.5*epsilon*Re/g))"
   ]
  },
  {
   "cell_type": "markdown",
   "metadata": {},
   "source": [
    "Let's plot this surface displacement:"
   ]
  },
  {
   "cell_type": "code",
   "execution_count": null,
   "metadata": {},
   "outputs": [],
   "source": [
    "theta = linspace(-pi,pi,501)\n",
    "h = epsilon*Re/(2*g) * cos(2*theta)\n",
    "\n",
    "figure(figsize=(12,5))\n",
    "plot(theta*180/pi, h, 'b')\n",
    "xlim(-180,180)\n",
    "xticks(linspace(-180,180,5))\n",
    "xlabel('longitude (degrees)')\n",
    "ylabel('surface displacement (meters)')\n",
    "ticklabel_format(useOffset=False)\n",
    "grid(True)\n",
    "title('Tidal displacement of the sea surface');"
   ]
  },
  {
   "cell_type": "markdown",
   "metadata": {},
   "source": [
    "We can plot this on the circular equatorial cross section of the earth.  In order to see the water at all, or its tidal variation, we must greatly amplify both the depth of the ocean and the magnitude of the tidal bulges relative to that depth.  Doing so gives the plot that we showed at the top of the notebook:"
   ]
  },
  {
   "cell_type": "code",
   "execution_count": null,
   "metadata": {},
   "outputs": [],
   "source": [
    "force_plots.plot_tidal_bulges()"
   ]
  },
  {
   "cell_type": "markdown",
   "metadata": {},
   "source": [
    "### References\n",
    "\n",
    "- Simanek, D. E. Tidal Misconceptions, [webpage](https://www.lockhaven.edu/~dsimanek/scenario/tides.htm), accessed 2022.\n",
    "\n",
    "- Butikov, E. I. (2002). A dynamical picture of the oceanic tides. American Journal of Physics, 70(10), 1001–1011. https://doi.org/10.1119/1.1498858\n",
    "\n",
    "- Butikov, E. I. (2017).\"Oceanic Tides: A physical explanation and modeling\", Computer Tools in Education [pdf](http://butikov.faculty.ifmo.ru/OceanicTidesCTE.pdf)\n",
    "\n",
    "- [Wikipedia page on tidal force](https://en.wikipedia.org/wiki/Tidal_force), accessed 2022."
   ]
  },
  {
   "cell_type": "code",
   "execution_count": null,
   "metadata": {},
   "outputs": [],
   "source": []
  }
 ],
 "metadata": {
  "kernelspec": {
   "display_name": "Python 3",
   "language": "python",
   "name": "python3"
  },
  "language_info": {
   "codemirror_mode": {
    "name": "ipython",
    "version": 3
   },
   "file_extension": ".py",
   "mimetype": "text/x-python",
   "name": "python",
   "nbconvert_exporter": "python",
   "pygments_lexer": "ipython3",
   "version": "3.6.10"
  }
 },
 "nbformat": 4,
 "nbformat_minor": 4
}
