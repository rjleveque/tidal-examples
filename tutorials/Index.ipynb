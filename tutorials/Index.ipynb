{
 "cells": [
  {
   "cell_type": "markdown",
   "metadata": {},
   "source": [
    "# Introduction and Index of Tide Tutorials\n",
    "\n",
    "This notebook can be found at `clawpack/tidal-examples/tutorials/Index.ipynb`, and is an index to the notebooks in this `tutorials` directory.  Other notebooks illustrating e.g. the use of PyTides can be found in other directories."
   ]
  },
  {
   "cell_type": "markdown",
   "metadata": {},
   "source": [
    "## Quick index\n",
    "\n",
    "See the discussion below for more details on what's in the these notebooks:\n",
    "\n",
    "- [TidalForces.ipynb](TidalForces.ipynb) The \"tidal force\" exerted by the moon or sun, the \"tidal bulge\" and the reason for semidiurnal tides (with 2 highs and 2 lows daily).\n",
    "- [TideOnSphere.ipynb](TideOnSphere.ipynb) The tidal bulge on the surface of a sphere and the effect of tilt, one reason for mixed semidiurnal tides (with differing heights of the 2 tides).\n",
    "- [SpringNeapTides.ipynb](SpringNeapTides.ipynb) The reason the heights of the tides often differ greatly from one week to the next. \n"
   ]
  },
  {
   "cell_type": "markdown",
   "metadata": {},
   "source": [
    "## Overview\n",
    "\n",
    "These notebooks illustrate a few basic concepts related to the tide, using simplified models. Other notebooks are still under development."
   ]
  },
  {
   "cell_type": "markdown",
   "metadata": {},
   "source": [
    "The plots below show an example of the tide relative to mean sea level (MSL) at Wake Island over a few days in 2022.  Since Wake Island is in the middle of the Pacific, the tides here are relatively unaffected by coastal topography, which can greatly complicate the picture.  At Wake Island it is relatively simple looking...."
   ]
  },
  {
   "cell_type": "code",
   "execution_count": null,
   "metadata": {},
   "outputs": [],
   "source": [
    "import wake_island_tide\n",
    "from importlib import reload\n",
    "reload(wake_island_tide)\n",
    "wake_island_tide.make_tide_plot_4weeks()"
   ]
  },
  {
   "cell_type": "markdown",
   "metadata": {},
   "source": [
    "We see several interesting patterns in the tide shown above.  Over this 4 week period, we see that there are times (around 7 and 21 days) when the tides are much larger (\"spring tides\") and other times (around 0, 14, and 28 days) when the tides are much smaller (\"neap tides\").  The pattern roughly repeats every two weeks.  This pattern is due to the fact that the moon is orbiting the earth with a period somewhat longer than 28 days, and is discussed more in the notebook [SpringNeapTides.ipynb](SpringNeapTides.ipynb)."
   ]
  },
  {
   "cell_type": "markdown",
   "metadata": {},
   "source": [
    "If we zoom on only a few days of data, we can easily see that there are roughly two high tides and two low tides each day:"
   ]
  },
  {
   "cell_type": "code",
   "execution_count": null,
   "metadata": {},
   "outputs": [],
   "source": [
    "wake_island_tide.make_tide_plot_4days()"
   ]
  },
  {
   "cell_type": "markdown",
   "metadata": {},
   "source": [
    "We also see that the alternating high tides and low tides generally have different heights. This sort of tide is called \"mixed semidiurnal\".  Other sorts of tides are observed at different locations:\n",
    "- A \"diurnal\" tide has only one high and one low each day,\n",
    "- A \"semidiurnal\" tide has two highs and two lows each day (with roughly the same magnitude)\n",
    "- A 'mixed semidiurnal\" tide has two highs and two lows with different heights\n",
    "\n",
    "The reason why a semidiurnal tide is often expected is explained in [TidalForces.ipynb](TidalForces.ipynb). The reason for the differing heights is explored more in [TideOnSphere.ipynb](TideOnSphere.ipynb)."
   ]
  },
  {
   "cell_type": "code",
   "execution_count": null,
   "metadata": {},
   "outputs": [],
   "source": []
  }
 ],
 "metadata": {
  "kernelspec": {
   "display_name": "Python 3",
   "language": "python",
   "name": "python3"
  },
  "language_info": {
   "codemirror_mode": {
    "name": "ipython",
    "version": 3
   },
   "file_extension": ".py",
   "mimetype": "text/x-python",
   "name": "python",
   "nbconvert_exporter": "python",
   "pygments_lexer": "ipython3",
   "version": "3.6.10"
  }
 },
 "nbformat": 4,
 "nbformat_minor": 4
}
