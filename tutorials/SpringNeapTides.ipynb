{
 "cells": [
  {
   "cell_type": "markdown",
   "metadata": {},
   "source": [
    "# Spring Tides and Neap Tides\n",
    "\n",
    "The notebook [TidalForces.ipynb](TidalForces.ipynb) illustrates how a single body (the moon or sun) creates tidal forces on earth that result in bulges in the ocean that are aligned with the direction of the body (both on the near side and the far side of the earth).  The sea surface is higher than mean sea level in the bulges, and to compensate, the water is shallower in the perpendicular directions.  We also saw there that the tidal force of the sun is only about half that of the moon, so it creates a smaller bulge.\n",
    "\n",
    "In this notebook we consider what happens when we take into account the fact that tidal forces from **both** the sun and the moon are acting on the ocean at the same time.  The total effect is the sum of the two tidal bulges.  But this effect can create either a larger bulge (if the sun and moon are lined up) or a smaller bulge (if the sun and moon are acting in perpendicular directions.  The orientation of the sun and moon changes as the moon orbits the earth roughly once every 28 days, and so the amplitude of the tide varies constantly.  When the earth, sun, and moon are all lined up (which happens when the moon is new or full), the bulges add up to give the largest tides (called **spring tides**), roughly every two weeks.  In between, when the moon is half full (waxing or waning) the bulges partially cancel out and the tides are much smaller.  These are called **neap tides**.\n",
    "\n",
    "First we show what the bulges look like with two different sun-moon orientations, and then we will plot the resulting tides over several weeks as the moon orbits."
   ]
  },
  {
   "cell_type": "code",
   "execution_count": null,
   "metadata": {},
   "outputs": [],
   "source": [
    "%matplotlib inline"
   ]
  },
  {
   "cell_type": "code",
   "execution_count": null,
   "metadata": {},
   "outputs": [],
   "source": [
    "from pylab import *\n",
    "import force_plots"
   ]
  },
  {
   "cell_type": "code",
   "execution_count": null,
   "metadata": {},
   "outputs": [],
   "source": [
    "from importlib import reload\n",
    "reload(force_plots)"
   ]
  },
  {
   "cell_type": "code",
   "execution_count": null,
   "metadata": {},
   "outputs": [],
   "source": [
    " if 0:\n",
    "    theta = linspace(-180,180,361)  # longitudes\n",
    "    phi = 0.  # latitude\n",
    "    beta = 0. # lunar elevation\n",
    "\n",
    "    figure(figsize=(12,5))\n",
    "    plot(theta, force_plots.eta(theta,phi=phi,beta=beta), 'b')\n",
    "    #plot(theta, force_plots.eta(theta,45,5), 'g')\n",
    "    xlim(-180,180)\n",
    "    xlabel('longitude (degrees)')\n",
    "    ylabel('surface displacement (meters)')\n",
    "    ticklabel_format(useOffset=False)\n",
    "    grid(True)\n",
    "    title('Tidal displacement of the sea surface at latitude %.2f with beta = %.2f degrees' \\\n",
    "           % (phi,beta));"
   ]
  },
  {
   "cell_type": "markdown",
   "metadata": {},
   "source": [
    "## Alignment when the moon is new or full\n",
    "\n",
    "The plots below shows the earth and the ocean with the ocean depth greatly magnified in order to be visible.  The bulge in the ocean is also greatly magnified relative to the depth of the ocean in order for that to be visible.\n",
    "\n",
    "In each figure, the dashed blue line is mean sea level (the constant depth ocean if there were no tidal forces), the cyan line shows the bulge due to tidal forces of the moon, and the red line shows the bulge due to tidal forces of the sun.  The solid blue line (filled in with blue) shows the **sum** of the two bulges and shows combined effect of both sets of tidal forces on the ocean.\n",
    "\n",
    "The first plot shows the case when the earth, sun, and the moon lie along the same line.  This configuration is called **syzygy**.  In the figure the moon is between the earth and sun and so it is a *new moon*, but exactly the same tidal bulges would be seen if the moon were on the opposite side of the earth from the sun, a *full moon*.  \n",
    "\n",
    "Note that the bulges due to the sun and moon are aligned and so the combined bulge is larger than either alone."
   ]
  },
  {
   "cell_type": "code",
   "execution_count": null,
   "metadata": {},
   "outputs": [],
   "source": [
    "force_plots.plot_tidal_bulges(theta_moon=20, theta_sun=20)"
   ]
  },
  {
   "cell_type": "markdown",
   "metadata": {},
   "source": [
    "## Cancellation when the sun and moon are in quadrature\n",
    "\n",
    "Another possible configuration of the sun and moon is when they are at 90 degrees to each other relative to the earth, and are said to be *in quadrature*. In this case the bulge due to the moon aligns with the low water region due to the sun and vice versa.  When these two bulges are added together, they partially cancel out, giving smaller tides than either would alone. "
   ]
  },
  {
   "cell_type": "code",
   "execution_count": null,
   "metadata": {},
   "outputs": [],
   "source": [
    "force_plots.plot_tidal_bulges(theta_moon=45, theta_sun=-45)"
   ]
  },
  {
   "cell_type": "markdown",
   "metadata": {},
   "source": [
    "## Rotation of the earth\n",
    "\n",
    "For the moment, ignore the fact that the moon is orbiting the earth and suppose the configuration of the moon and sun are fixed and consider what happens as the earth rotates.  Over the course of a couple days this is roughly correct, since the earth rotates once per day while it takes 28 days for the moon to orbit the earth.\n",
    "\n",
    "If we fix a point on the earth and let it rotate under either of the two configurations shown above, the point we will see two high tides and two low tides each day, but the amplitudes will be different based on the phase of the moon.\n",
    "\n",
    "In the plots below we will show the elevation of the ocean (relative to mean sea level) as a function of time over several days, assuming the phase of the moon is fixed.  Using the same colors as above, the cyan curve shows the tide that would be observed if only the moon were present, the red curve for only the sun, and the blue curve is the sum of the two, showing the tide when both are taken into account."
   ]
  },
  {
   "cell_type": "markdown",
   "metadata": {},
   "source": [
    "First we define a plotting function to reduce the amount of repeated code below:"
   ]
  },
  {
   "cell_type": "code",
   "execution_count": null,
   "metadata": {},
   "outputs": [],
   "source": [
    "def plot_etas(t_days, eta_moon, eta_sun, plot_sum=True):\n",
    "    figure(figsize=(12,6))\n",
    "    plot(t_days, eta_moon, 'c', label='moon')\n",
    "    plot(t_days, eta_sun, 'r', label='sun')\n",
    "    if plot_sum:\n",
    "        plot(t_days, eta_sun+eta_moon, 'b', label='moon+sun')\n",
    "\n",
    "    xticks(range(0,n_days+1,7))\n",
    "    grid(True)\n",
    "    xlabel('Days')\n",
    "    ylabel('meters')\n",
    "    xlim(t_days[0],t_days[-1])\n",
    "    ylim(-0.45, 0.45)\n",
    "    legend(loc='upper right',framealpha=1);"
   ]
  },
  {
   "cell_type": "markdown",
   "metadata": {},
   "source": [
    "Now we plot the sea level elevation as a function of time in the case when the moon and sun are aligned (syzygy).  We do this by fixing the angle `theta_sun = theta_moon` while `theta_obs`, the angle of the observer on the rotating earth, increases by 360 degrees each day."
   ]
  },
  {
   "cell_type": "code",
   "execution_count": null,
   "metadata": {},
   "outputs": [],
   "source": [
    "theta_sun = 0  # fixed angle of sun\n",
    "theta_moon = 0 # fixed angle of moon\n",
    "n_days = 3\n",
    "t_days = linspace(0, n_days, 1000)\n",
    "theta_obs = t_days * 360  # angle of observer as earth rotates\n",
    "\n",
    "eta_sun = force_plots.eta(theta_obs - theta_sun, epsilon=force_plots.epsilon_sun)\n",
    "eta_moon = force_plots.eta(theta_obs - theta_moon, epsilon=force_plots.epsilon_moon)\n",
    "\n",
    "plot_etas(t_days, eta_moon, eta_sun, plot_sum=True)\n",
    "xticks(range(0,3,1))\n",
    "xlim(0,3);"
   ]
  },
  {
   "cell_type": "code",
   "execution_count": null,
   "metadata": {},
   "outputs": [],
   "source": [
    "theta_sun = 0  # fixed angle of sun\n",
    "theta_moon = 0 # fixed angle of moon\n",
    "n_hours = 54\n",
    "t_hours = linspace(0, n_hours, 1000)\n",
    "theta_obs = (t_hours/24) * 360  # angle of observer as earth rotates\n",
    "\n",
    "eta_sun = force_plots.eta(theta_obs - theta_sun, epsilon=force_plots.epsilon_sun)\n",
    "eta_moon = force_plots.eta(theta_obs - theta_moon, epsilon=force_plots.epsilon_moon)\n",
    "\n",
    "figure(figsize=(12,6))\n",
    "plot(t_hours, eta_moon, 'c', label='moon')\n",
    "plot(t_hours, eta_sun, 'r', label='sun')\n",
    "plot(t_hours, eta_sun+eta_moon, 'b', label='moon+sun')\n",
    "\n",
    "xticks(range(0,n_hours+1,12))\n",
    "grid(True)\n",
    "xlabel('Hours')\n",
    "ylabel('meters')\n",
    "xlim(0,n_hours)\n",
    "ylim(-0.45, 0.45)\n",
    "legend(loc='upper right',framealpha=1);"
   ]
  },
  {
   "cell_type": "markdown",
   "metadata": {},
   "source": [
    "In the plot above, we see that during syzygy, the tides from the moon and sun are aligned and the total tide has a larger amplitude, roughly $\\pm 0.4$ meters relative to sea level.\n",
    "\n",
    "Now consider the case when the moon and sun are in quadrature:"
   ]
  },
  {
   "cell_type": "code",
   "execution_count": null,
   "metadata": {},
   "outputs": [],
   "source": [
    "theta_sun = 0  # fixed angle of sun\n",
    "theta_moon = 90 # fixed angle of moon\n",
    "n_days = 3\n",
    "t_days = linspace(0, n_days, 1000)\n",
    "theta_obs = t_days * 360  # angle of observer as earth rotates\n",
    "\n",
    "eta_sun = force_plots.eta(theta_obs - theta_sun, epsilon=force_plots.epsilon_sun)\n",
    "eta_moon = force_plots.eta(theta_obs - theta_moon, epsilon=force_plots.epsilon_moon)\n",
    "\n",
    "plot_etas(t_days, eta_moon, eta_sun, plot_sum=True)\n",
    "xticks(range(0,3,1))\n",
    "xlim(0,3);"
   ]
  },
  {
   "cell_type": "markdown",
   "metadata": {},
   "source": [
    "The cyan and red curves are exactly the same as in the the previous plot, only the phase has been shifted.  In this case we see that the tides due to the moon and sun partially cancel out, and the combined tide has an amplitude of only about $\\pm 0.15$ meters relative to sea level."
   ]
  },
  {
   "cell_type": "markdown",
   "metadata": {},
   "source": [
    "## Including the orbit of the moon\n",
    "\n",
    "Above we assumed the the relative positions of the sun and moon were constant as the earth rotated.  Now we will include the orbit of the earth. We can still assume the angle of the sun is constant (e.g. `theta_sun = 0` for all time as used above) by considering this reference frame, but now we will let `theta_moon` vary with time, increasing by 360 degrees every 27.32 days.\n",
    "\n",
    "First we plot the tidal effect due to the moon and sun without summing them up so that we can see these better:"
   ]
  },
  {
   "cell_type": "code",
   "execution_count": null,
   "metadata": {},
   "outputs": [],
   "source": [
    "theta_sun = 0  # fixed angle of sun\n",
    "T_moon = 27.32 # period of the moon in days\n",
    "\n",
    "n_days = 15\n",
    "t_days = linspace(0, n_days, 2000)\n",
    "theta_moon = (t_days/T_moon) * 360\n",
    "theta_obs = t_days * 360  # angle of observer as earth rotates\n",
    "\n",
    "eta_sun = force_plots.eta(theta_obs - theta_sun, epsilon=force_plots.epsilon_sun)\n",
    "eta_moon = force_plots.eta(theta_obs - theta_moon, epsilon=force_plots.epsilon_moon)\n",
    "\n",
    "plot_etas(t_days, eta_moon, eta_sun, plot_sum=False)"
   ]
  },
  {
   "cell_type": "markdown",
   "metadata": {},
   "source": [
    "Note that at the starting time, 0 days, `theta_moon = 0`, the sun and moon are in syzygy, and the two tidal effects are in phase and will reinforce each other.  This is roughly true for the next few days, but by the time we get to 7 days the moon is roughly in quadrature with the sun `theta_moon` is approximately 90 degrees, and the two effects are out of phase. When we compute the sum we will get a lot of cancellation around this time.  As time goes on the moon moves to 180 degrees around 14 days (actually at 27.32 / 2), and the two tidal effects are again in phase.\n",
    "\n",
    "Now we add the sum of the two effects to the plot:"
   ]
  },
  {
   "cell_type": "code",
   "execution_count": null,
   "metadata": {},
   "outputs": [],
   "source": [
    "plot_etas(t_days, eta_moon, eta_sun, plot_sum=True)"
   ]
  },
  {
   "cell_type": "markdown",
   "metadata": {},
   "source": [
    "Here's the same plot over a longer time period:"
   ]
  },
  {
   "cell_type": "code",
   "execution_count": null,
   "metadata": {},
   "outputs": [],
   "source": [
    "n_days = 42\n",
    "t_days = linspace(0, n_days, 4000)\n",
    "theta_moon = (t_days/T_moon) * 360\n",
    "theta_obs = t_days * 360  # angle of observer as earth rotates\n",
    "\n",
    "eta_sun = force_plots.eta(theta_obs - theta_sun, epsilon=force_plots.epsilon_sun)\n",
    "eta_moon = force_plots.eta(theta_obs - theta_moon, epsilon=force_plots.epsilon_moon)\n",
    "\n",
    "plot_etas(t_days, eta_moon, eta_sun, plot_sum=True)"
   ]
  },
  {
   "cell_type": "markdown",
   "metadata": {},
   "source": [
    "From this we can clearly see the spring tides and neap tides roughly a week apart."
   ]
  },
  {
   "cell_type": "code",
   "execution_count": null,
   "metadata": {},
   "outputs": [],
   "source": []
  }
 ],
 "metadata": {
  "kernelspec": {
   "display_name": "Python 3",
   "language": "python",
   "name": "python3"
  },
  "language_info": {
   "codemirror_mode": {
    "name": "ipython",
    "version": 3
   },
   "file_extension": ".py",
   "mimetype": "text/x-python",
   "name": "python",
   "nbconvert_exporter": "python",
   "pygments_lexer": "ipython3",
   "version": "3.6.10"
  }
 },
 "nbformat": 4,
 "nbformat_minor": 4
}
