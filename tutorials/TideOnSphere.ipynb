{
 "cells": [
  {
   "cell_type": "markdown",
   "metadata": {},
   "source": [
    "# Tidal bulges on the sphere\n",
    "\n",
    "This notebook will illustrate how the bulges look on the sphere, and the way that the tides observed at a point vary when the point and/or the body creating the tidal force is not in the equatorial plane.\n",
    "\n",
    "It needs work and more discussion -- still experimenting with figures."
   ]
  },
  {
   "cell_type": "code",
   "execution_count": null,
   "metadata": {},
   "outputs": [],
   "source": [
    "%pylab inline"
   ]
  },
  {
   "cell_type": "code",
   "execution_count": null,
   "metadata": {},
   "outputs": [],
   "source": [
    "from matplotlib import cm"
   ]
  },
  {
   "cell_type": "code",
   "execution_count": null,
   "metadata": {},
   "outputs": [],
   "source": [
    "G = 6.674e-11    # gravitational constant \n",
    "\n",
    "Re = 6371e3      # radius of earth (m)\n",
    "Me = 5.972e24    # mass of earth (kg)\n",
    "\n",
    "Mm = 7.348e22    # mass of moon (kg)\n",
    "Rm = 3.844e8     # distance moon to earth (m)\n",
    "\n",
    "Ms = 1.989e30    # mass of sun (kg)\n",
    "Rs = 149.6e9     # distance sun to earth (m)\n",
    "\n",
    "g = G*Me/Re**2\n",
    "\n",
    "epsilon = 1.5*G*Mm*Re / Rm**3\n",
    "print('Maximum perturbation of g = %.2f m/s^2 is epsilon = %.3e m/s^2' % (g, epsilon))"
   ]
  },
  {
   "cell_type": "code",
   "execution_count": null,
   "metadata": {},
   "outputs": [],
   "source": [
    "cosd = lambda x: cos(x*pi/180)\n",
    "sind = lambda x: sin(x*pi/180)\n",
    "\n",
    "def eta(theta, phi, beta=0.):\n",
    "    cos_theta = cosd(theta)*cosd(phi)*cosd(beta) + sind(phi)*sind(beta)\n",
    "    cos_2theta = 2*cos_theta**2 - 1.\n",
    "    eta = epsilon*Re/(2*g) * cos_2theta\n",
    "    return eta"
   ]
  },
  {
   "cell_type": "code",
   "execution_count": null,
   "metadata": {},
   "outputs": [],
   "source": [
    "theta = linspace(-180,180,361)  # longitudes\n",
    "phi = 0.  # latitude\n",
    "beta = 0. # lunar elevation\n",
    "\n",
    "figure(figsize=(12,5))\n",
    "plot(theta, eta(theta,0,0), 'b')\n",
    "plot(theta, eta(theta,45,5), 'g')\n",
    "xlim(-180,180)\n",
    "xlabel('longitude (degrees)')\n",
    "ylabel('surface displacement (meters)')\n",
    "ticklabel_format(useOffset=False)\n",
    "grid(True)\n",
    "title('Tidal displacement of the sea surface at latitude %.2f with beta = %.2f degrees' \\\n",
    "       % (phi,beta));"
   ]
  },
  {
   "cell_type": "code",
   "execution_count": null,
   "metadata": {},
   "outputs": [],
   "source": [
    "figure(figsize=(12,5))\n",
    "theta = linspace(0,5*360,5*90)\n",
    "#plot(theta, eta(theta,0,0), 'b')\n",
    "beta = 10.\n",
    "phi = 30.\n",
    "plot(theta/360, eta(theta,phi,beta), 'g')\n",
    "xlabel('days')\n",
    "ylabel('surface displacement (meters)')\n",
    "ticklabel_format(useOffset=False)\n",
    "title('Tidal displacement as earth rotates, at longitude 0, latitude %.2f with beta = %.2f degrees' \\\n",
    "       % (phi,beta));"
   ]
  },
  {
   "cell_type": "code",
   "execution_count": null,
   "metadata": {},
   "outputs": [],
   "source": [
    "\n",
    "fig = figure(figsize=(10,10))\n",
    "ax = fig.add_subplot(projection='3d')\n",
    "\n",
    "# Create the mesh in polar coordinates\n",
    "theta = linspace(-180, 180, 361)\n",
    "phi = linspace(0,90,46)\n",
    "Theta,Phi = meshgrid(theta,phi)\n",
    "\n",
    "# Express the mesh in the cartesian system.\n",
    "X, Y = cosd(Theta)*cosd(Phi), sind(Theta)*cosd(Phi)\n",
    "\n",
    "beta = 0.\n",
    "cmap = cm.bwr\n",
    "\n",
    "# Elevation in northern hemisphere:\n",
    "Z = sind(Phi)\n",
    "\n",
    "# Define function on surface and normalize for face colors:\n",
    "ffcn = eta(Theta,Phi,beta)\n",
    "fmax, fmin = ffcn.max(), ffcn.min()\n",
    "fcolors = 0.7*(ffcn - fmin)/(fmax - fmin)\n",
    "\n",
    "# Plot the surface.\n",
    "ax.plot_surface(X, Y, Z, facecolors=cmap(fcolors), shade=False)\n",
    "\n",
    "# Elevation in southern hemisphere:\n",
    "Z = -sind(Phi)\n",
    "\n",
    "# Define function on surface and normalize for face colors:\n",
    "ffcn = eta(Theta,Phi,beta)\n",
    "fmax, fmin = ffcn.max(), ffcn.min()\n",
    "fcolors = 0.7*(ffcn - fmin)/(fmax - fmin)\n",
    "\n",
    "# Plot the surface.\n",
    "surf = ax.plot_surface(X, Y, Z, facecolors=cmap(fcolors), shade=False)\n",
    "surf.set_clim(-2,2)\n",
    "\n",
    "ax.plot([0,1.5],[0,0],[0,0],color='k',zorder=3)\n",
    "ax.text(1.8,-.1,-.1,'moon', fontsize=12)\n",
    "ax.plot(1.01*cosd(theta), 1.01*sind(theta), zeros(theta.shape),color='k',zorder=3)\n",
    "phi0 = 40\n",
    "#ax.plot(cosd(theta)*cosd(phi0), sind(theta)*cosd(phi0), sind(phi0)*ones(theta.shape), 'r', zorder=4)\n",
    "ax.plot([cosd(phi0)], [0], [sind(phi0)], 'ko', zorder=4)\n",
    "\n",
    "# Tweak the limits\n",
    "ax.set_zlim(-1, 1)\n",
    "#ax.set_aspect('equal') # not allowed\n",
    "#fig.colorbar(surf)\n",
    "ax.set_axis_off();\n",
    "ax.view_init(elev=30, azim=-40)"
   ]
  },
  {
   "cell_type": "code",
   "execution_count": null,
   "metadata": {},
   "outputs": [],
   "source": [
    "\n",
    "def make_plots(phi0, beta=0.):\n",
    "    fig = figure(figsize=(10,10))\n",
    "    ax = fig.add_subplot(projection='3d')\n",
    "\n",
    "    # Create the mesh in polar coordinates\n",
    "    theta = linspace(-180, 180, 361)\n",
    "    phi = linspace(0,90,46)\n",
    "    Theta,Phi = meshgrid(theta,phi)\n",
    "\n",
    "    # Express the mesh in the cartesian system.\n",
    "    X, Y = cosd(Theta)*cosd(Phi), sind(Theta)*cosd(Phi)\n",
    "\n",
    "    cmap = cm.bwr\n",
    "\n",
    "    # Elevation in northern hemisphere:\n",
    "    Z = sind(Phi)\n",
    "\n",
    "    # Define function on surface and normalize for face colors:\n",
    "    ffcn = eta(Theta,Phi,beta)\n",
    "    fmax, fmin = ffcn.max(), ffcn.min()\n",
    "    fcolors = 0.7*(ffcn - fmin)/(fmax - fmin)\n",
    "\n",
    "    # Plot the surface.\n",
    "    ax.plot_surface(X, Y, Z, facecolors=cmap(fcolors), shade=False)\n",
    "\n",
    "    # Elevation in southern hemisphere:\n",
    "    Z = sind(-Phi)\n",
    "\n",
    "    # Define function on surface and normalize for face colors:\n",
    "    ffcn = eta(Theta,-Phi,beta)\n",
    "    fmax, fmin = ffcn.max(), ffcn.min()\n",
    "    fcolors = 0.7*(ffcn - fmin)/(fmax - fmin)\n",
    "\n",
    "    # Plot the surface.\n",
    "    surf = ax.plot_surface(X, Y, Z, facecolors=cmap(fcolors), shade=False)\n",
    "    surf.set_clim(-2,2)\n",
    "\n",
    "    #ax.plot([0,1.5],[0,0],[0,0],color='k',zorder=3)\n",
    "    #ax.text(1.8,-.1,-.1,'moon', fontsize=12)\n",
    "    ax.plot(1.01*cosd(theta), 1.01*sind(theta), zeros(theta.shape),color='k',zorder=3)\n",
    "    #ax.plot(cosd(theta)*cosd(phi0), sind(theta)*cosd(phi0), sind(phi0)*ones(theta.shape), 'r', zorder=4)\n",
    "    ax.plot([cosd(phi0)], [0], [sind(phi0)], 'ko', zorder=4)\n",
    "\n",
    "    # Tweak the limits\n",
    "    ax.set_zlim(-1, 1)\n",
    "    #ax.set_aspect('equal') # not allowed\n",
    "    #fig.colorbar(surf)\n",
    "    ax.set_axis_off();\n",
    "    ax.view_init(elev=30, azim=-40)\n",
    "\n",
    "    figure(figsize=(12,5))\n",
    "    theta = linspace(0,5*360,5*90)\n",
    "    plot(theta/360, eta(theta,phi0,beta), 'g')\n",
    "    plot(theta/360, 0*theta, 'k')\n",
    "    xlim(0,5)\n",
    "    ylim(-0.3, 0.3)\n",
    "    xlabel('days')\n",
    "    ylabel('surface displacement (meters)')\n",
    "    ticklabel_format(useOffset=False)\n",
    "    title('Tidal displacement as earth rotates, at longitude 0, latitude %.2f with beta = %.2f degrees' \\\n",
    "           % (phi0,beta));"
   ]
  },
  {
   "cell_type": "code",
   "execution_count": null,
   "metadata": {},
   "outputs": [],
   "source": [
    "make_plots(0,0)"
   ]
  },
  {
   "cell_type": "code",
   "execution_count": null,
   "metadata": {},
   "outputs": [],
   "source": [
    "make_plots(30,0)"
   ]
  },
  {
   "cell_type": "code",
   "execution_count": null,
   "metadata": {},
   "outputs": [],
   "source": [
    "make_plots(30,20)"
   ]
  },
  {
   "cell_type": "code",
   "execution_count": null,
   "metadata": {},
   "outputs": [],
   "source": []
  }
 ],
 "metadata": {
  "kernelspec": {
   "display_name": "Python 3",
   "language": "python",
   "name": "python3"
  },
  "language_info": {
   "codemirror_mode": {
    "name": "ipython",
    "version": 3
   },
   "file_extension": ".py",
   "mimetype": "text/x-python",
   "name": "python",
   "nbconvert_exporter": "python",
   "pygments_lexer": "ipython3",
   "version": "3.6.10"
  }
 },
 "nbformat": 4,
 "nbformat_minor": 4
}
