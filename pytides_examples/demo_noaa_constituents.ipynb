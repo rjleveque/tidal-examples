{
 "cells": [
  {
   "cell_type": "markdown",
   "metadata": {},
   "source": [
    "# demo_noaa_constituents -- Example Pytides Usage\n",
    "\n",
    "Based loosely on the example by Sam Cox on the Pytides wiki, [How to use the NOAA's published Harmonic Constituents in Python with Pytides](https://github.com/sam-cox/pytides/wiki/How-to-use-the-NOAA's-published-Harmonic-Constituents-in-Python-with-Pytides).\n",
    "\n",
    "This example uses the [NOAA constituents published for King's Point, NY](https://tidesandcurrents.noaa.gov/harcon.html?unit=0&timezone=0&id=8516945&name=Kings+Point&state=NY). These have been typed into this notebook below. \n",
    "\n",
    "Code at the bottom of this notebook illustrates how to download the harmonic consituents directly, a better approach in general since it is easier, less error-prone, and provides more digits of precision than the published tables.\n",
    "\n",
    "To find the station number and the webpages for other stations, see [this NOAA page](https://tidesandcurrents.noaa.gov/stations.html?type=Water%20Levels).  After going to one of the station webpages, you will find links to the harmonic constituents and datums near the bottom of the page.  Make sure you select \"meters\" as the units and the desired time zone (local or GMT) and then refresh the page if necessary.\n",
    "\n",
    "For more about tidal constituents, see for example:\n",
    " - [wikipedia page](https://en.wikipedia.org/wiki/Theory_of_tides#Tidal_constituents)\n",
    " - [NOAA page](https://tidesandcurrents.noaa.gov/about_harmonic_constituents.html)"
   ]
  },
  {
   "cell_type": "code",
   "execution_count": null,
   "metadata": {},
   "outputs": [],
   "source": [
    "from datetime import datetime\n",
    "import matplotlib.pyplot as plt\n",
    "import numpy as np"
   ]
  },
  {
   "cell_type": "markdown",
   "metadata": {},
   "source": [
    "### Import local submodule version of Pytides\n",
    "\n",
    "The clawpack version includes some fixes to the original code needed to make it work in Python3."
   ]
  },
  {
   "cell_type": "code",
   "execution_count": null,
   "metadata": {},
   "outputs": [],
   "source": [
    "# Here's what we'd like to do:  (?)\n",
    "#from clawpack.pytides.tide import Tide\n",
    "#import clawpack.pytides.constituent as cons\n",
    "#\n",
    "\n",
    "# For now, hardwire in the path...\n",
    "import sys, os\n",
    "CLAW = os.environ['CLAW']  # path to Clawpack files\n",
    "pathstr = os.path.join(CLAW, 'tidal-examples/pytides')\n",
    "assert os.path.isdir(pathstr), '*** Need clawpack/tidal-examples/pytides ***'\n",
    "print('Using Pytides from: %s' % pathstr)\n",
    "if pathstr not in sys.path:\n",
    "    sys.path.insert(0,pathstr)\n",
    "    \n",
    "from pytides.tide import Tide\n",
    "import pytides.constituent as cons"
   ]
  },
  {
   "cell_type": "markdown",
   "metadata": {},
   "source": [
    "Here are the NOAA constituents, in the order presented on their website for this particular station.\n",
    "\n",
    "We omit the Z0 component, which is 0 relative to MSL and will be adjusted below to present results relative to a different datum, e.g. MLLW."
   ]
  },
  {
   "cell_type": "code",
   "execution_count": null,
   "metadata": {},
   "outputs": [],
   "source": [
    "constituents = [c for c in cons.noaa if c != cons._Z0]\n",
    "\n",
    "#Phases and amplitudes (relative to GMT and in degrees and metres)\n",
    "published_phases = [115.7,140.7,92.6,192,145.5,220.6,159.9,202.8,152.3,\\\n",
    "                    117.2,92,0,0,69.7,224.5,141.7,121.9,\\\n",
    "                    228.4,252.1,0,60.1,135.5,0,0,204.5,212.2,112.3,\\\n",
    "                    141.8,249.1,211.1,75.1,181.4,140.4,202.4,141.8,155,160.9]\n",
    "\n",
    "published_amplitudes = [1.142,0.189,0.241,0.1,0.036,0.066,0.08,0.01,0.004,\\\n",
    "                        0.022,0.052,0,0,0.03,0.007,0.025,0.009,\\\n",
    "                        0.005,0.008,0,0.024,0.065,0,0,0.004,0.017,0.015,\\\n",
    "                        0.002,0.002,0.032,0.003,0.007,0.07,0.009,0.053,\\\n",
    "                        0.007,0.008]\n"
   ]
  },
  {
   "cell_type": "markdown",
   "metadata": {},
   "source": [
    "Print out the constintuents for easy comparison with the [NOAA constituents page for station 8516945, Kings Point, NY](https://tidesandcurrents.noaa.gov/harcon.html?unit=0&timezone=0&id=8516945&name=Kings+Point&state=NY). Note that some of the names are slightly different from the NOAA names:"
   ]
  },
  {
   "cell_type": "code",
   "execution_count": null,
   "metadata": {},
   "outputs": [],
   "source": [
    "print('#     Name      Amplitude   Phase')\n",
    "for k,c in enumerate(constituents):\n",
    "    print('%s   %s   %.3f     %7.3f' \\\n",
    "          % (str(k+1).ljust(4), c.name.ljust(7), published_amplitudes[k], published_phases[k]))"
   ]
  },
  {
   "cell_type": "markdown",
   "metadata": {},
   "source": [
    "We can add a constant offset.  The published constituents are relative to MSL  (not MTL as stated in the Pytides wiki example).  Here we set the offset so that the plots will be relative to MLLW instead.  These values can be found on the [NOAA datums page for this station](https://tidesandcurrents.noaa.gov/datums.html?datum=STND&units=1&epoch=0&id=8516945&name=Kings+Point&state=NY).  Note that these values are relative to the station datum (STND) although the offset computed should be the same as long as the values of both `MSL` and `MLLW` used are relative to the same datum.  Also make sure `meters` is selected when looking at datums (and at constituents)."
   ]
  },
  {
   "cell_type": "code",
   "execution_count": null,
   "metadata": {},
   "outputs": [],
   "source": [
    "MSL = 5.113\n",
    "MLLW = 3.927\n",
    "offset = MSL - MLLW\n",
    "constituents.append(cons._Z0)\n",
    "published_phases.append(0)\n",
    "published_amplitudes.append(offset)"
   ]
  },
  {
   "cell_type": "markdown",
   "metadata": {},
   "source": [
    "### Build the model, and a tide instance:"
   ]
  },
  {
   "cell_type": "code",
   "execution_count": null,
   "metadata": {},
   "outputs": [],
   "source": [
    "assert(len(constituents)==len(published_phases)==len(published_amplitudes))\n",
    "model = np.zeros(len(constituents), dtype = Tide.dtype)\n",
    "model['constituent'] = constituents\n",
    "model['amplitude'] = published_amplitudes\n",
    "model['phase'] = published_phases\n",
    "\n",
    "#Build a TIDE INSTANCE called tide from the MODEL called model\n",
    "tide = Tide(model=model,radians=False)"
   ]
  },
  {
   "cell_type": "code",
   "execution_count": null,
   "metadata": {},
   "outputs": [],
   "source": [
    "print('Predicted tide on January 1, 2013 relative to MLLW...')\n",
    "print('    at 00:00 GMT: %.3fm\\n    at 06:00 GMT: %.3fm' \\\n",
    "        % tuple(tide.at([datetime(2013,1,1,0,0,0), datetime(2013,1,1,6,0,0)])))"
   ]
  },
  {
   "cell_type": "markdown",
   "metadata": {},
   "source": [
    "\n",
    "The [actual NOAA prediction](https://tidesandcurrents.noaa.gov/waterlevels.html?id=8516945&units=metric&bdate=20130101&edate=20130102&timezone=GMT&datum=MLLW&interval=6&action=) for 0000 and 0600 GMT on January 1 2013 are -0.079m and  2.206m relative to MLLW."
   ]
  },
  {
   "cell_type": "markdown",
   "metadata": {},
   "source": [
    "## Produce plots over a time range:\n",
    "\n",
    "We can produce plots similar to the [actual NOAA prediction](https://tidesandcurrents.noaa.gov/waterlevels.html?id=8516945&units=metric&bdate=20130101&edate=20130102&timezone=GMT&datum=MLLW&interval=6&action=) over a couple of days."
   ]
  },
  {
   "cell_type": "code",
   "execution_count": null,
   "metadata": {},
   "outputs": [],
   "source": [
    "prediction_t0 = datetime(2013,1,1,0,0,0)\n",
    "prediction_end= datetime(2013,1,3,0,0,0)\n",
    "hrs=((prediction_end - prediction_t0).total_seconds())/3600.\n",
    "print ('The data started at datetime: ',prediction_t0)\n",
    "print ('The data ended at datetime: ',prediction_end)\n",
    "print ('The data spanned %5i hours' %int(hrs))\n",
    "print (' ')\n",
    "hours = 0.1*np.arange(int(hrs)*10)\n",
    "times = Tide._times(prediction_t0, hours)"
   ]
  },
  {
   "cell_type": "markdown",
   "metadata": {},
   "source": [
    "### Evaluate the tide instance at the specified times"
   ]
  },
  {
   "cell_type": "code",
   "execution_count": null,
   "metadata": {},
   "outputs": [],
   "source": [
    "my_prediction = tide.at(times)"
   ]
  },
  {
   "cell_type": "markdown",
   "metadata": {},
   "source": [
    "### Find the high tides and low tides, and print out a tide table:"
   ]
  },
  {
   "cell_type": "code",
   "execution_count": null,
   "metadata": {},
   "outputs": [],
   "source": [
    "# Find the highs and lows using tide.extrema generator function\n",
    "# of the tidal instance called tide.  Save ext_hrs and ext_hts\n",
    "# as numpy arrays for plotting later.\n",
    "\n",
    "ext_vals=[t for t in tide.extrema(prediction_t0,prediction_end)]\n",
    "print ('High and Low tides, relative to MLLW: ')\n",
    "\n",
    "n_ext=len(ext_vals)\n",
    "ext_hts=[]; ext_hilo=[]; ext_hrs=[]; ext_datetimes=[];\n",
    "for i in range(n_ext):\n",
    "    ext_tuple=ext_vals[i]\n",
    "    ext_datetimes.append(ext_tuple[0])\n",
    "    ext_hts.append(ext_tuple[1])\n",
    "    ext_hilo.append(ext_tuple[2])\n",
    "    ext_hrs.append( ((ext_tuple[0] - prediction_t0).total_seconds())/3600.)\n",
    "ext_hrs=np.array(ext_hrs)\n",
    "ext_hts=np.array(ext_hts)\n",
    "\n",
    "#Print the extrema information\n",
    "print (' ')\n",
    "print (' Date        time        Hrs   Elevation      Hi-Low ') \n",
    "for i in range(n_ext):\n",
    "    print ('%s %8.3f %8.3f m %8s ' %\\\n",
    "          (ext_datetimes[i].strftime('%Y-%m-%d  %H:%M:%S'), ext_hrs[i],ext_hts[i],ext_hilo[i]) )"
   ]
  },
  {
   "cell_type": "markdown",
   "metadata": {},
   "source": [
    "## Plot the predicted tide"
   ]
  },
  {
   "cell_type": "code",
   "execution_count": null,
   "metadata": {},
   "outputs": [],
   "source": [
    "titlestr = 'January 1-2, 2013 Example Tides \\n' +\\\n",
    "            'Kings Point, NY (Station 8516945)'\n",
    "\n",
    "plt.figure(figsize=(13,6))\n",
    "plt.plot(hours, my_prediction, label=\"The data (38 NOAA)\")\n",
    "plt.plot(ext_hrs,ext_hts,'ro',label=\"Extrema\")\n",
    "plt.xticks(np.arange(0,49,12))\n",
    "plt.xlabel('Hours since ' + str(prediction_t0) + '(GMT)')\n",
    "plt.ylabel('Meters above MLLW')\n",
    "plt.axis([-1,49,-1,4])\n",
    "plt.legend(loc='upper left')\n",
    "plt.grid(True)\n",
    "plt.title(titlestr);"
   ]
  },
  {
   "cell_type": "markdown",
   "metadata": {},
   "source": [
    "## Download harmonic consituents\n",
    "\n",
    "Rather than typing in the harmonic constituents as done above, it is much easier and less prone to error to download them directly from the NOAA website.  The code below should produce the same constituents as used above.\n",
    "\n",
    "We use a function in the GeoClaw `tidetools` module to do this.  Eventually this will be moved to geoclaw, but is local to this repository for development purposes..."
   ]
  },
  {
   "cell_type": "code",
   "execution_count": null,
   "metadata": {},
   "outputs": [],
   "source": [
    "pathstr = os.path.abspath('..')\n",
    "if pathstr not in sys.path:\n",
    "    sys.path.insert(0,pathstr)\n",
    "import tidetools\n",
    "\n",
    "print('Using tidetools from: %s' % tidetools.__file__)"
   ]
  },
  {
   "cell_type": "code",
   "execution_count": null,
   "metadata": {},
   "outputs": [],
   "source": [
    "station = 8516945 # Kings point, NY\n",
    "print('Fetching harmonic constituents for station %s, standard 37 -- no Z0' % station)\n",
    "harcon, harcon_info = tidetools.fetch_harcon(station, units='meters', verbose=False)\n",
    "\n",
    "numbers = list(range(1,38))  \n",
    "harcon_numbers = [h['number'] for h in harcon]\n",
    "# make sure there are the expected number and in the right order:\n",
    "assert harcon_numbers == numbers, \\\n",
    "      '*** unexpected harcon_numbers = %s' % numbers"
   ]
  },
  {
   "cell_type": "markdown",
   "metadata": {},
   "source": [
    "Note that `harcon` is now a dictionary with keys such as `number`, `name`, `amplitude`, etc.\n",
    "    \n",
    "Print out these constituents, same as above but with names that agree with the [NOAA page](https://tidesandcurrents.noaa.gov/harcon.html?unit=0&timezone=0&id=8516945&name=Kings+Point&state=NY), and with more digits of precision in the amplitudes:"
   ]
  },
  {
   "cell_type": "code",
   "execution_count": null,
   "metadata": {},
   "outputs": [],
   "source": [
    "print('#     Name      Amplitude     Phase')\n",
    "for k,h in enumerate(harcon):\n",
    "    print('%s   %s   %.5f     %9.4f' \\\n",
    "          % (str(h['number']).ljust(4), h['name'].ljust(7), h['amplitude'], h['phase_GMT']))"
   ]
  },
  {
   "cell_type": "code",
   "execution_count": null,
   "metadata": {},
   "outputs": [],
   "source": [
    "print(\"Note that:  harcon_info['units'] = %s\" % harcon_info['units'])"
   ]
  },
  {
   "cell_type": "markdown",
   "metadata": {},
   "source": [
    "But our `tidetools` function converted the units to meters in computing `harcon`, since that's what we requested above."
   ]
  },
  {
   "cell_type": "markdown",
   "metadata": {},
   "source": [
    "## Translate harcon into a pytides model:\n",
    "\n",
    "We can translate the `harcon` dictionary into the model needed by pytides as follows:"
   ]
  },
  {
   "cell_type": "code",
   "execution_count": null,
   "metadata": {},
   "outputs": [],
   "source": [
    "NOAA_constituents = [c for c in cons.noaa if c != cons._Z0]\n",
    "\n",
    "#Set the amplitudes and phases lists that will be needed for Pytides\n",
    "NOAA_amplitudes   = [h['amplitude'] for h in harcon]   #in meters\n",
    "\n",
    "#These are relative to GMT (0 deg West time meridan)\n",
    "NOAA_phases_GMT   = [h['phase_GMT'] for h in harcon]  \n"
   ]
  },
  {
   "cell_type": "code",
   "execution_count": null,
   "metadata": {},
   "outputs": [],
   "source": [
    "MSL = 5.113\n",
    "MLLW = 3.928\n",
    "offset = MSL - MLLW\n",
    "NOAA_constituents.append(cons._Z0)\n",
    "NOAA_phases_GMT.append(0)\n",
    "NOAA_amplitudes.append(offset)"
   ]
  },
  {
   "cell_type": "code",
   "execution_count": null,
   "metadata": {},
   "outputs": [],
   "source": [
    "assert(len(constituents) == len(NOAA_phases_GMT) \\\n",
    "        == len(NOAA_amplitudes))\n",
    "NOAA_model = np.zeros(len(NOAA_constituents), dtype = Tide.dtype)\n",
    "NOAA_model['constituent'] = NOAA_constituents\n",
    "NOAA_model['amplitude'] = NOAA_amplitudes\n",
    "NOAA_model['phase'] = NOAA_phases_GMT\n",
    "\n",
    "#Build a TIDE INSTANCE called tide from the MODEL called model\n",
    "NOAA_tide = Tide(model=NOAA_model,radians=False)"
   ]
  },
  {
   "cell_type": "code",
   "execution_count": null,
   "metadata": {},
   "outputs": [],
   "source": [
    "print('Predicted tide on January 1, 2013 relative to MLLW...')\n",
    "print('    at 00:00 GMT: %.3fm\\n    at 06:00 GMT: %.3fm' \\\n",
    "        % tuple(NOAA_tide.at([datetime(2013,1,1,0,0,0), datetime(2013,1,1,6,0,0)])))"
   ]
  },
  {
   "cell_type": "markdown",
   "metadata": {},
   "source": [
    "This is slightly different from the values obtained earlier because `harcon` has more digits in the constituents than what appears on the NOAA website and at the top of the notebook."
   ]
  }
 ],
 "metadata": {
  "kernelspec": {
   "display_name": "Python 3",
   "language": "python",
   "name": "python3"
  },
  "language_info": {
   "codemirror_mode": {
    "name": "ipython",
    "version": 3
   },
   "file_extension": ".py",
   "mimetype": "text/x-python",
   "name": "python",
   "nbconvert_exporter": "python",
   "pygments_lexer": "ipython3",
   "version": "3.6.10"
  }
 },
 "nbformat": 4,
 "nbformat_minor": 4
}
